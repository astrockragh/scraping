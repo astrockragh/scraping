{
 "cells": [
  {
   "cell_type": "code",
   "execution_count": 1,
   "metadata": {},
   "outputs": [
    {
     "data": {
      "text/plain": [
       "226"
      ]
     },
     "execution_count": 1,
     "metadata": {},
     "output_type": "execute_result"
    }
   ],
   "source": [
    "from pathlib import Path\n",
    "import requests\n",
    "filename = Path('metadata.pdf')\n",
    "url = 'http://www.hrecos.org//images/Data/forweb/HRTVBSH.Metadata.pdf'\n",
    "response = requests.get(url)\n",
    "filename.write_bytes(response.content)"
   ]
  },
  {
   "cell_type": "code",
   "execution_count": 3,
   "metadata": {},
   "outputs": [],
   "source": [
    "import requests\n",
    "import shutil\n",
    "r = requests.get(url, auth=('usrname', 'password'), verify=False,stream=True)\n",
    "r.raw.decode_content = True\n",
    "with open(\"file_name.pdf\", 'wb') as f:\n",
    "        shutil.copyfileobj(r.raw, f) "
   ]
  },
  {
   "cell_type": "code",
   "execution_count": 5,
   "metadata": {},
   "outputs": [],
   "source": [
    "import requests\n",
    "url = 'http://www.hrecos.org//images/Data/forweb/HRTVBSH.Metadata.pdf'\n",
    "response = requests.get(url)\n",
    "with open('metadata.pdf', 'wb') as f:\n",
    "    f.write(response.content)"
   ]
  },
  {
   "cell_type": "code",
   "execution_count": 7,
   "metadata": {},
   "outputs": [],
   "source": [
    "import requests\n",
    "url = 'http://www.hrecos.org//images/Data/forweb/HRTVBSH.Metadata.pdf'\n",
    "r = requests.get(url, stream=True)\n",
    "chunk_size=2000\n",
    "with open('metadata.pdf', 'wb') as fd:\n",
    "    for chunk in r.iter_content(chunk_size):\n",
    "        fd.write(chunk)"
   ]
  }
 ],
 "metadata": {
  "hide_input": false,
  "kernelspec": {
   "display_name": "Python 3",
   "language": "python",
   "name": "python3"
  },
  "language_info": {
   "codemirror_mode": {
    "name": "ipython",
    "version": 3
   },
   "file_extension": ".py",
   "mimetype": "text/x-python",
   "name": "python",
   "nbconvert_exporter": "python",
   "pygments_lexer": "ipython3",
   "version": "3.7.4"
  }
 },
 "nbformat": 4,
 "nbformat_minor": 2
}
